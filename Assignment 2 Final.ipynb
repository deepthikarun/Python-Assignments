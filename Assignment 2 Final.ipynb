{
 "cells": [
  {
   "cell_type": "markdown",
   "metadata": {},
   "source": [
    "# Task 1"
   ]
  },
  {
   "cell_type": "markdown",
   "metadata": {},
   "source": [
    "Q 1.1 :Write a Python Program to implement your own myreduce() function which works exactly like\n",
    "Python's built-in function reduce()"
   ]
  },
  {
   "cell_type": "code",
   "execution_count": 1,
   "metadata": {},
   "outputs": [
    {
     "data": {
      "text/plain": [
       "85"
      ]
     },
     "execution_count": 1,
     "metadata": {},
     "output_type": "execute_result"
    }
   ],
   "source": [
    "def function(a,b):\n",
    "    if (a > b):\n",
    "        return a\n",
    "    else:\n",
    "        return b\n",
    "\n",
    "def myreduce(function,l):\n",
    "    for i in range(0,len(l)-1):\n",
    "        result=(function(l[i],l[i+1]))\n",
    "        l[i+1]=result\n",
    "    return result\n",
    "    \n",
    "my_list =[5,85,9,10]\n",
    "myreduce(function,my_list)\n",
    "    "
   ]
  },
  {
   "cell_type": "markdown",
   "metadata": {},
   "source": [
    "1.2\n",
    "Write a Python program to implement your own myfilter() function which works exactly like\n",
    "Python's built-in function filter()"
   ]
  },
  {
   "cell_type": "code",
   "execution_count": 13,
   "metadata": {},
   "outputs": [
    {
     "data": {
      "text/plain": [
       "[1, 3, 9]"
      ]
     },
     "execution_count": 13,
     "metadata": {},
     "output_type": "execute_result"
    }
   ],
   "source": [
    "#Function for odd check\n",
    "def function(a):\n",
    "    if a%2==1:\n",
    "        return True\n",
    "    else:\n",
    "        return False\n",
    "    \n",
    "\n",
    "def myfilter(function,l):\n",
    "    listofresults=[]\n",
    "    for i in range(0,len(l)):\n",
    "        result=(function(l[i]))\n",
    "        if(result==True):\n",
    "            listofresults.append(l[i])         \n",
    "    return listofresults\n",
    "    \n",
    "my_list =[1,2,4,3,6,8,9,18]\n",
    "myfilter(function,my_list)\n",
    "    "
   ]
  },
  {
   "cell_type": "markdown",
   "metadata": {},
   "source": [
    "2.Implement List comprehensions to produce the following lists.\n",
    "Write List comprehensions to produce the following Lists\n",
    "\n",
    "['A', 'C', 'A', 'D', 'G', 'I', ’L’, ‘ D’]\n",
    "['x', 'xx', 'xxx', 'xxxx', 'y', 'yy', 'yyy', 'yyyy', 'z', 'zz', 'zzz', 'zzzz']\n",
    "['x', 'y', 'z', 'xx', 'yy', 'zz', 'xx', 'yy', 'zz', 'xxxx', 'yyyy', 'zzzz']\n",
    "\n",
    "[[2], [3], [4], [3], [4], [5], [4], [5], [6]]\n",
    "[[2, 3, 4, 5], [3, 4, 5, 6], [4, 5, 6, 7], [5, 6, 7, 8]]\n",
    "[(1, 1), (2, 1), (3, 1), (1, 2), (2, 2), (3, 2), (1, 3), (2, 3), (3, 3)]"
   ]
  },
  {
   "cell_type": "code",
   "execution_count": 2,
   "metadata": {},
   "outputs": [
    {
     "data": {
      "text/plain": [
       "['A', 'C', 'A', 'D', 'G', 'I', 'L', 'D']"
      ]
     },
     "execution_count": 2,
     "metadata": {},
     "output_type": "execute_result"
    }
   ],
   "source": [
    "#2.1\n",
    "l='acadgild'\n",
    "[i.upper() for i in l]"
   ]
  },
  {
   "cell_type": "code",
   "execution_count": 4,
   "metadata": {},
   "outputs": [
    {
     "data": {
      "text/plain": [
       "['x', 'xx', 'xxx', 'xxxx', 'y', 'yy', 'yyy', 'yyyy', 'z', 'zz', 'zzz', 'zzzz']"
      ]
     },
     "execution_count": 4,
     "metadata": {},
     "output_type": "execute_result"
    }
   ],
   "source": [
    "#2.2\n",
    "r=['x','y','z']\n",
    "[i*j for i in r for j in range(1,5) ]"
   ]
  },
  {
   "cell_type": "code",
   "execution_count": 5,
   "metadata": {},
   "outputs": [
    {
     "data": {
      "text/plain": [
       "['x', 'y', 'z', 'xx', 'yy', 'zz', 'xx', 'yy', 'zz', 'xxxx', 'yyyy', 'zzzz']"
      ]
     },
     "execution_count": 5,
     "metadata": {},
     "output_type": "execute_result"
    }
   ],
   "source": [
    "#2.3\n",
    "r=['x','y','z']\n",
    "[k*j*i  for k in range(1,3) for j in range(1,3) for i in r ]"
   ]
  },
  {
   "cell_type": "code",
   "execution_count": 6,
   "metadata": {},
   "outputs": [
    {
     "data": {
      "text/plain": [
       "[[2], [3], [4], [3], [4], [5], [4], [5], [6]]"
      ]
     },
     "execution_count": 6,
     "metadata": {},
     "output_type": "execute_result"
    }
   ],
   "source": [
    "#2.4\n",
    "[[i+j] for i in range(1,4) for j in range(1,4)]"
   ]
  },
  {
   "cell_type": "code",
   "execution_count": 7,
   "metadata": {},
   "outputs": [
    {
     "data": {
      "text/plain": [
       "[[2, 3, 4, 5], [3, 4, 5, 6], [4, 5, 6, 7], [5, 6, 7, 8]]"
      ]
     },
     "execution_count": 7,
     "metadata": {},
     "output_type": "execute_result"
    }
   ],
   "source": [
    "#2.5\n",
    "l=[2,3,4,5]\n",
    "[[i+j for i in l] for j in range(0,4)]"
   ]
  },
  {
   "cell_type": "code",
   "execution_count": 8,
   "metadata": {},
   "outputs": [
    {
     "data": {
      "text/plain": [
       "[(1, 1), (2, 1), (3, 1), (1, 2), (2, 2), (3, 2), (1, 3), (2, 3), (3, 3)]"
      ]
     },
     "execution_count": 8,
     "metadata": {},
     "output_type": "execute_result"
    }
   ],
   "source": [
    "#2.6\n",
    "[(j,i) for i in range(1,4) for j in range(1,4)]"
   ]
  },
  {
   "cell_type": "markdown",
   "metadata": {},
   "source": [
    "3.Implement a function longestWord() that takes a list of words and returns the longest one."
   ]
  },
  {
   "cell_type": "code",
   "execution_count": 9,
   "metadata": {},
   "outputs": [
    {
     "data": {
      "text/plain": [
       "'programming'"
      ]
     },
     "execution_count": 9,
     "metadata": {},
     "output_type": "execute_result"
    }
   ],
   "source": [
    "listofwords=['python','is','a','high','level','programming','language']\n",
    "def longestWord(a):\n",
    "    for i in range(0,len(a)-1):\n",
    "        if len(a[i])>len(a[i+1]):\n",
    "            long=a[i]\n",
    "        else:\n",
    "            long=a[i+1]\n",
    "    return long\n",
    "longestWord(listofwords)"
   ]
  },
  {
   "cell_type": "markdown",
   "metadata": {},
   "source": [
    "# Task-2"
   ]
  },
  {
   "cell_type": "markdown",
   "metadata": {},
   "source": [
    "1.1\n",
    "Write a Python Program(with class concepts) to find the area of the triangle using the below\n",
    "formula.\n",
    "area = (s*(s-a)*(s-b)*(s-c)) ** 0.5\n",
    "Function to take the length of the sides of triangle from user should be defined in the parent\n",
    "class and function to calculate the area should be defined in subclass."
   ]
  },
  {
   "cell_type": "code",
   "execution_count": 25,
   "metadata": {},
   "outputs": [
    {
     "name": "stdout",
     "output_type": "stream",
     "text": [
      "Three sides of a triangle are : [11, 15, 13]\n",
      "Area of the given triangle = 69.62892717829278\n"
     ]
    }
   ],
   "source": [
    "class Triangle:\n",
    "    def __init__(self,sidesoftriangle):\n",
    "        self.sidesoftriangle=sidesoftriangle\n",
    "\n",
    "class Area(Triangle):\n",
    "    def __init__(self,*args):\n",
    "        super(Area,self).__init__(*args)\n",
    "        \n",
    "        \n",
    "    def __str__(self):\n",
    "        return 'Three sides of a triangle are : '+str(self.sidesoftriangle)\n",
    "    \n",
    "    def get_area(self):\n",
    "        '''return the area of the triangle using the semi-perimeter method'''\n",
    "        a,b,c = self.sidesoftriangle\n",
    "\n",
    "        # calculate the semi-perimeter\n",
    "        s = (a + b + c) / 2\n",
    "        return (s*(s-a)*(s-b)*(s-c)) ** 0.5\n",
    "    \n",
    "areaoftriangle=Area([11,15,13])\n",
    "print(areaoftriangle)\n",
    "print('Area of the given triangle =',areaoftriangle.get_area())\n",
    "\n"
   ]
  },
  {
   "cell_type": "markdown",
   "metadata": {},
   "source": [
    "1.2\n",
    "Write a function filter_long_words() that takes a list of words and an integer n and returns the list\n",
    "of words that are longer than n."
   ]
  },
  {
   "cell_type": "code",
   "execution_count": null,
   "metadata": {},
   "outputs": [],
   "source": [
    "def filter_long_words(l,n):\n",
    "    LongerThanN=[]\n",
    "    for i in l:\n",
    "        if len(i)>n:\n",
    "            LongerThanN.append(i)\n",
    "    return LongerThanN\n",
    "\n",
    "listofwords=['wordOne','wordTwo','wordThree','wordFour','wordFive']\n",
    "n=int(input())\n",
    "listlongerthanN=filter_long_words(listofwords,n)\n",
    "print('Words longer than', n,'are :',listlongerthanN)"
   ]
  },
  {
   "cell_type": "markdown",
   "metadata": {},
   "source": [
    "2.1\n",
    "Write a Python program using function concept that maps list of words into a list of integers\n",
    "representing the lengths of the corresponding words ."
   ]
  },
  {
   "cell_type": "code",
   "execution_count": null,
   "metadata": {},
   "outputs": [],
   "source": [
    "#Using map and lambda\n",
    "listofwords=['wordOne','wordTwo','wordThree','wordFour','wordFive']\n",
    "list(map(lambda x:(len(x)),listofwords))"
   ]
  },
  {
   "cell_type": "code",
   "execution_count": null,
   "metadata": {},
   "outputs": [],
   "source": [
    "#Without using map()\n",
    "def lenofwords(a):\n",
    "    listofint=[]\n",
    "    for i in (a):\n",
    "        listofint.append(len(i))\n",
    "    return listofint   \n",
    "                         \n",
    "listofwords=['wordOne','wordTwo','wordThree','wordFour','wordFive']\n",
    "print (\"List of words:\"+str(listofwords))    \n",
    "print (\"List of wordlength:\"+str(lenofwords(listofwords)))\n"
   ]
  },
  {
   "cell_type": "code",
   "execution_count": null,
   "metadata": {},
   "outputs": [],
   "source": [
    "\n",
    "#using map()\n",
    "\n",
    "def leng(b):\n",
    "    l=(len(b))\n",
    "    return l\n",
    "\n",
    "x=['aadbs','sad']\n",
    "list(map(leng,x))\n"
   ]
  },
  {
   "cell_type": "markdown",
   "metadata": {},
   "source": [
    "2.2\n",
    "Write a Python function which takes a character (i.e. a string of length 1) and returns True if it is\n",
    "a vowel, False otherwise."
   ]
  },
  {
   "cell_type": "code",
   "execution_count": null,
   "metadata": {},
   "outputs": [],
   "source": [
    "def is_vowel(a):\n",
    "    listofvowels=['a','e','i','o','u','A','E','I','O','U']\n",
    "    for i in listofvowels:\n",
    "        if i==a:\n",
    "            vowel=True\n",
    "            break\n",
    "    else:\n",
    "        vowel=False\n",
    "    return vowel\n",
    "        \n",
    "a=input()\n",
    "print(is_vowel(a))     \n"
   ]
  },
  {
   "cell_type": "code",
   "execution_count": null,
   "metadata": {},
   "outputs": [],
   "source": []
  }
 ],
 "metadata": {
  "kernelspec": {
   "display_name": "Python 3",
   "language": "python",
   "name": "python3"
  },
  "language_info": {
   "codemirror_mode": {
    "name": "ipython",
    "version": 3
   },
   "file_extension": ".py",
   "mimetype": "text/x-python",
   "name": "python",
   "nbconvert_exporter": "python",
   "pygments_lexer": "ipython3",
   "version": "3.7.4"
  }
 },
 "nbformat": 4,
 "nbformat_minor": 2
}
